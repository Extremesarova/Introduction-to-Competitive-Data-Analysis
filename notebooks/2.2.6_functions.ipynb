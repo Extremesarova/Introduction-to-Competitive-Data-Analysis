{
 "cells": [
  {
   "cell_type": "markdown",
   "metadata": {},
   "source": [
    "## Imports"
   ]
  },
  {
   "cell_type": "code",
   "execution_count": 2,
   "metadata": {},
   "outputs": [],
   "source": [
    "import pandas as pd"
   ]
  },
  {
   "cell_type": "markdown",
   "metadata": {},
   "source": [
    "## Reading Data"
   ]
  },
  {
   "cell_type": "code",
   "execution_count": 23,
   "metadata": {},
   "outputs": [
    {
     "name": "stdout",
     "output_type": "stream",
     "text": [
      "<class 'pandas.core.frame.DataFrame'>\n",
      "RangeIndex: 100 entries, 0 to 99\n",
      "Data columns (total 11 columns):\n",
      " #   Column         Non-Null Count  Dtype  \n",
      "---  ------         --------------  -----  \n",
      " 0   Unnamed: 0     100 non-null    int64  \n",
      " 1   car_id         100 non-null    object \n",
      " 2   model          100 non-null    object \n",
      " 3   car_type       100 non-null    object \n",
      " 4   fuel_type      100 non-null    object \n",
      " 5   car_rating     100 non-null    float64\n",
      " 6   year_to_start  100 non-null    int64  \n",
      " 7   riders         100 non-null    int64  \n",
      " 8   year_to_work   100 non-null    int64  \n",
      " 9   target_reg     100 non-null    float64\n",
      " 10  target_class   100 non-null    object \n",
      "dtypes: float64(2), int64(4), object(5)\n",
      "memory usage: 8.7+ KB\n"
     ]
    }
   ],
   "source": [
    "df = pd.read_csv(\"https://stepik.org/media/attachments/lesson/681964/2_2_12.csv\")\n",
    "\n",
    "df.info()"
   ]
  },
  {
   "cell_type": "markdown",
   "metadata": {},
   "source": [
    "## Analysis"
   ]
  },
  {
   "cell_type": "markdown",
   "metadata": {},
   "source": [
    "- Запишите в переменную mean_rating среднее по столбцу car_rating .\n",
    "- Увеличьте на один все значения в столбцах car_rating и year_to_work.\n",
    "- Отфильтруйте любым из удобных способов машины с рейтингом выше среднего от столбца car_rating (используйте переменную mean_rating).\n",
    "- Преобразуйте столбец year_to_work следующим образом: если значение меньше 2017, то прибавьте 2, иначе разделите значение нацело на 5.\n",
    "- Переименуйте столбец year_to_start в new_year_to_start и удалите столбец fuel_type.\n",
    "- Ко всем значениям из столбца car_type добавьте приставку super_ (standart -> super_standart).\n",
    "- Решение запишите в переменную result."
   ]
  },
  {
   "cell_type": "code",
   "execution_count": 31,
   "metadata": {},
   "outputs": [],
   "source": [
    "mean_rating = df[\"car_rating\"].mean()\n",
    "\n",
    "\n",
    "def change_df(df):\n",
    "    df = df.copy()\n",
    "    df[[\"car_rating\", \"year_to_work\"]] += 1\n",
    "    df = df.query(f\"car_rating > {mean_rating}\")\n",
    "    df.loc[:, \"year_to_work\"] = df[\"year_to_work\"].apply(\n",
    "        lambda year: year + 2 if year < 2017 else year // 5\n",
    "    )\n",
    "    df = df.rename({\"year_to_start\": \"new_year_to_start\"}, axis=1).drop(\n",
    "        \"fuel_type\", axis=1\n",
    "    )\n",
    "    df[\"car_type\"] = \"super_\" + df[\"car_type\"]\n",
    "\n",
    "    return df\n",
    "\n",
    "\n",
    "result = change_df(df)"
   ]
  },
  {
   "cell_type": "code",
   "execution_count": null,
   "metadata": {},
   "outputs": [],
   "source": []
  }
 ],
 "metadata": {
  "kernelspec": {
   "display_name": "competitive_ds",
   "language": "python",
   "name": "competitive_ds"
  },
  "language_info": {
   "codemirror_mode": {
    "name": "ipython",
    "version": 3
   },
   "file_extension": ".py",
   "mimetype": "text/x-python",
   "name": "python",
   "nbconvert_exporter": "python",
   "pygments_lexer": "ipython3",
   "version": "3.8.10"
  }
 },
 "nbformat": 4,
 "nbformat_minor": 2
}
