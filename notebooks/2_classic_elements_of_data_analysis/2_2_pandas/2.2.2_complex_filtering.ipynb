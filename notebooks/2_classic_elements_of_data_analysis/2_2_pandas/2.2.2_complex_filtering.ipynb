{
 "cells": [
  {
   "cell_type": "markdown",
   "metadata": {},
   "source": [
    "## Imports"
   ]
  },
  {
   "cell_type": "code",
   "execution_count": 1,
   "metadata": {},
   "outputs": [],
   "source": [
    "import pandas as pd"
   ]
  },
  {
   "cell_type": "markdown",
   "metadata": {},
   "source": [
    "## Reading Data"
   ]
  },
  {
   "cell_type": "code",
   "execution_count": 4,
   "metadata": {},
   "outputs": [
    {
     "name": "stdout",
     "output_type": "stream",
     "text": [
      "<class 'pandas.core.frame.DataFrame'>\n",
      "Index: 180 entries, 0 to 179\n",
      "Data columns (total 4 columns):\n",
      " #   Column      Non-Null Count  Dtype  \n",
      "---  ------      --------------  -----  \n",
      " 0   user_id     180 non-null    object \n",
      " 1   car_id      180 non-null    object \n",
      " 2   rating      180 non-null    float64\n",
      " 3   stop_times  180 non-null    int64  \n",
      "dtypes: float64(1), int64(1), object(2)\n",
      "memory usage: 7.0+ KB\n"
     ]
    }
   ],
   "source": [
    "df1 = pd.read_csv(\n",
    "    \"https://stepik.org/media/attachments/lesson/681964/2.2.6_df1.csv\", index_col=0\n",
    ")\n",
    "df1.info()"
   ]
  },
  {
   "cell_type": "code",
   "execution_count": 6,
   "metadata": {},
   "outputs": [
    {
     "name": "stdout",
     "output_type": "stream",
     "text": [
      "<class 'pandas.core.frame.DataFrame'>\n",
      "Index: 120 entries, 180 to 299\n",
      "Data columns (total 4 columns):\n",
      " #   Column      Non-Null Count  Dtype  \n",
      "---  ------      --------------  -----  \n",
      " 0   user_id     120 non-null    object \n",
      " 1   car_id      120 non-null    object \n",
      " 2   rating      120 non-null    float64\n",
      " 3   stop_times  120 non-null    int64  \n",
      "dtypes: float64(1), int64(1), object(2)\n",
      "memory usage: 4.7+ KB\n"
     ]
    }
   ],
   "source": [
    "df2 = pd.read_csv(\n",
    "    \"https://stepik.org/media/attachments/lesson/681964/2.2.6_df2.csv\", index_col=0\n",
    ")\n",
    "\n",
    "df2.info()"
   ]
  },
  {
   "cell_type": "code",
   "execution_count": null,
   "metadata": {},
   "outputs": [
    {
     "name": "stdout",
     "output_type": "stream",
     "text": [
      "<class 'pandas.core.frame.DataFrame'>\n",
      "Index: 3 entries, 20 to 248\n",
      "Data columns (total 4 columns):\n",
      " #   Column      Non-Null Count  Dtype  \n",
      "---  ------      --------------  -----  \n",
      " 0   user_id     3 non-null      object \n",
      " 1   car_id      3 non-null      object \n",
      " 2   rating      3 non-null      float64\n",
      " 3   stop_times  3 non-null      int64  \n",
      "dtypes: float64(1), int64(1), object(2)\n",
      "memory usage: 120.0+ bytes\n"
     ]
    }
   ],
   "source": [
    "ans = pd.read_csv(\n",
    "    \"https://stepik.org/media/attachments/lesson/681964/2_2_6_ans.csv\", index_col=0\n",
    ")\n",
    "\n",
    "ans.info()"
   ]
  },
  {
   "cell_type": "markdown",
   "metadata": {},
   "source": [
    "## Parameters"
   ]
  },
  {
   "cell_type": "code",
   "execution_count": 3,
   "metadata": {},
   "outputs": [],
   "source": [
    "user_white_list = [\n",
    "    \"g10995906g\",\n",
    "    \"H90312511Q\",\n",
    "    \"C27138482L\",\n",
    "    \"H22518078t\",\n",
    "    \"n17438464n\",\n",
    "    \"F10525768e\",\n",
    "    \"s15596151o\",\n",
    "    \"i18954748S\",\n",
    "    \"E84048392U\",\n",
    "    \"E69893354s\",\n",
    "]\n",
    "car_black_list = [\"l-4285389z\", \"n79502261g\", \"N-1839822D\"]"
   ]
  },
  {
   "cell_type": "markdown",
   "metadata": {},
   "source": [
    "## Analysis"
   ]
  },
  {
   "cell_type": "markdown",
   "metadata": {},
   "source": [
    "**Задача**:\n",
    "- Соединить эти две таблицы вместе.  \n",
    "- Оставить только строки, где `rating` > 4 и `stop_times` равен 2, 3 или 5.  \n",
    "- В получившемся датафрейме оставить только те строки, где car_id не входит в список `car_black_list` и `user_id` входит в список `user_white_list`.\n",
    "- Оставить только строки, где `index` чётное число (датафрейм проиндексирован целыми числами).\n",
    "- Итоговый объект `pd.DataFrame()` поместить в переменную `result`.\n",
    "\n",
    "**На вход подается**:\n",
    "- Переменная `df1` - полный `DataFrame` с исходными данными;\n",
    "- Переменная `df2` - полный `DataFrame` с исходными данными;\n",
    "- Переменные `car_black_list`, `user_white_list`.\n",
    "\n",
    "**На выходе принимается**: `result:pd.DataFrame()`"
   ]
  },
  {
   "cell_type": "code",
   "execution_count": 19,
   "metadata": {},
   "outputs": [
    {
     "name": "stdout",
     "output_type": "stream",
     "text": [
      "2.58 ms ± 79.4 µs per loop (mean ± std. dev. of 7 runs, 100 loops each)\n"
     ]
    }
   ],
   "source": [
    "%%timeit \n",
    "\n",
    "result = pd.concat([df1, df2]).query(\n",
    "    \"rating > 4 and stop_times in (2, 3, 5) and car_id not in @car_black_list and user_id in @user_white_list and index % 2 == 0\"\n",
    ")"
   ]
  },
  {
   "cell_type": "code",
   "execution_count": 20,
   "metadata": {},
   "outputs": [
    {
     "name": "stdout",
     "output_type": "stream",
     "text": [
      "4.74 ms ± 40.3 µs per loop (mean ± std. dev. of 7 runs, 100 loops each)\n"
     ]
    }
   ],
   "source": [
    "%%timeit \n",
    "\n",
    "result = (\n",
    "    pd.concat([df1, df2])\n",
    "    .query(\"rating > 4\")\n",
    "    .query(\"stop_times in (2, 3, 5)\")\n",
    "    .query(\"car_id not in @car_black_list\")\n",
    "    .query(\"user_id in @user_white_list\")\n",
    "    .query(\"index % 2 == 0\")\n",
    ")"
   ]
  },
  {
   "cell_type": "code",
   "execution_count": null,
   "metadata": {},
   "outputs": [],
   "source": []
  }
 ],
 "metadata": {
  "kernelspec": {
   "display_name": "competitive_ds",
   "language": "python",
   "name": "competitive_ds"
  },
  "language_info": {
   "codemirror_mode": {
    "name": "ipython",
    "version": 3
   },
   "file_extension": ".py",
   "mimetype": "text/x-python",
   "name": "python",
   "nbconvert_exporter": "python",
   "pygments_lexer": "ipython3",
   "version": "3.8.10"
  }
 },
 "nbformat": 4,
 "nbformat_minor": 2
}
