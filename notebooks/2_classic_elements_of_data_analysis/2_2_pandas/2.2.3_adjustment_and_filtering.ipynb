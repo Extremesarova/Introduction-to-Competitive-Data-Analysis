{
 "cells": [
  {
   "cell_type": "markdown",
   "metadata": {},
   "source": [
    "## Imports"
   ]
  },
  {
   "cell_type": "code",
   "execution_count": 2,
   "metadata": {},
   "outputs": [],
   "source": [
    "import pandas as pd"
   ]
  },
  {
   "cell_type": "markdown",
   "metadata": {},
   "source": [
    "## Reading Data"
   ]
  },
  {
   "cell_type": "code",
   "execution_count": 9,
   "metadata": {},
   "outputs": [
    {
     "name": "stdout",
     "output_type": "stream",
     "text": [
      "<class 'pandas.core.frame.DataFrame'>\n",
      "RangeIndex: 100 entries, 0 to 99\n",
      "Data columns (total 5 columns):\n",
      " #   Column              Non-Null Count  Dtype  \n",
      "---  ------              --------------  -----  \n",
      " 0   user_id             100 non-null    object \n",
      " 1   user_rating         100 non-null    float64\n",
      " 2   age                 100 non-null    int64  \n",
      " 3   user_rides          100 non-null    int64  \n",
      " 4   user_time_accident  95 non-null     float64\n",
      "dtypes: float64(2), int64(2), object(1)\n",
      "memory usage: 4.0+ KB\n"
     ]
    }
   ],
   "source": [
    "df = pd.read_csv('https://stepik.org/media/attachments/lesson/681964/2_2_8.csv')\n",
    "\n",
    "df.info()"
   ]
  },
  {
   "cell_type": "code",
   "execution_count": 10,
   "metadata": {},
   "outputs": [
    {
     "name": "stdout",
     "output_type": "stream",
     "text": [
      "<class 'pandas.core.frame.DataFrame'>\n",
      "Index: 2 entries, 3 to 64\n",
      "Data columns (total 7 columns):\n",
      " #   Column              Non-Null Count  Dtype  \n",
      "---  ------              --------------  -----  \n",
      " 0   user_id             2 non-null      object \n",
      " 1   user_rating         2 non-null      float64\n",
      " 2   age                 2 non-null      int64  \n",
      " 3   user_rides          2 non-null      int64  \n",
      " 4   user_time_accident  2 non-null      float64\n",
      " 5   tripple_accident    2 non-null      float64\n",
      " 6   rides_on_rating     2 non-null      float64\n",
      "dtypes: float64(4), int64(2), object(1)\n",
      "memory usage: 128.0+ bytes\n"
     ]
    }
   ],
   "source": [
    "ans = pd.read_csv('https://stepik.org/media/attachments/lesson/681964/2_2_8_ans.csv', index_col=0)\n",
    "\n",
    "ans.info()"
   ]
  },
  {
   "cell_type": "markdown",
   "metadata": {},
   "source": [
    "## Analysis"
   ]
  },
  {
   "cell_type": "markdown",
   "metadata": {},
   "source": [
    "**Задача**:\n",
    "- Создайте столбец `tripple_accident` из столбца `user_time_accident`, умноженного на 3.\n",
    "- Создайте столбец `rides_on_rating` делением столбца `user_rides` на `user_rating`.\n",
    "- Оставьте только те строки, у которых `user_time_accident` больше 25 (используем фильтрацию).\n",
    "- Оставьте только те строки, у которых `age` выше среднего значения по полученной таблице в предыдущем пункте.\n",
    "\n",
    "**На вход подается**: `df` - полный `DataFrame` с исходными данными.\n",
    "\n",
    "**На выходе принимается**: Измененный `DataFrame` (переменная `df`)."
   ]
  },
  {
   "cell_type": "code",
   "execution_count": 11,
   "metadata": {},
   "outputs": [
    {
     "data": {
      "text/html": [
       "<div>\n",
       "<style scoped>\n",
       "    .dataframe tbody tr th:only-of-type {\n",
       "        vertical-align: middle;\n",
       "    }\n",
       "\n",
       "    .dataframe tbody tr th {\n",
       "        vertical-align: top;\n",
       "    }\n",
       "\n",
       "    .dataframe thead th {\n",
       "        text-align: right;\n",
       "    }\n",
       "</style>\n",
       "<table border=\"1\" class=\"dataframe\">\n",
       "  <thead>\n",
       "    <tr style=\"text-align: right;\">\n",
       "      <th></th>\n",
       "      <th>user_id</th>\n",
       "      <th>user_rating</th>\n",
       "      <th>age</th>\n",
       "      <th>user_rides</th>\n",
       "      <th>user_time_accident</th>\n",
       "      <th>tripple_accident</th>\n",
       "      <th>rides_on_rating</th>\n",
       "    </tr>\n",
       "  </thead>\n",
       "  <tbody>\n",
       "    <tr>\n",
       "      <th>3</th>\n",
       "      <td>E10711310m</td>\n",
       "      <td>8.4</td>\n",
       "      <td>33</td>\n",
       "      <td>322</td>\n",
       "      <td>39.0</td>\n",
       "      <td>117.0</td>\n",
       "      <td>38.333333</td>\n",
       "    </tr>\n",
       "    <tr>\n",
       "      <th>64</th>\n",
       "      <td>t25217963K</td>\n",
       "      <td>8.0</td>\n",
       "      <td>30</td>\n",
       "      <td>101</td>\n",
       "      <td>72.0</td>\n",
       "      <td>216.0</td>\n",
       "      <td>12.625000</td>\n",
       "    </tr>\n",
       "  </tbody>\n",
       "</table>\n",
       "</div>"
      ],
      "text/plain": [
       "       user_id  user_rating  age  user_rides  user_time_accident  \\\n",
       "3   E10711310m          8.4   33         322                39.0   \n",
       "64  t25217963K          8.0   30         101                72.0   \n",
       "\n",
       "    tripple_accident  rides_on_rating  \n",
       "3              117.0        38.333333  \n",
       "64             216.0        12.625000  "
      ]
     },
     "execution_count": 11,
     "metadata": {},
     "output_type": "execute_result"
    }
   ],
   "source": [
    "df[\"tripple_accident\"] = df[\"user_time_accident\"] * 3\n",
    "df[\"rides_on_rating\"] = df[\"user_rides\"] / df[\"user_rating\"]\n",
    "\n",
    "df = df.query(\"user_time_accident > 25\")\n",
    "average_age = df[\"age\"].mean()\n",
    "df = df.query(\"age > @average_age\")\n",
    "\n",
    "df"
   ]
  },
  {
   "cell_type": "code",
   "execution_count": null,
   "metadata": {},
   "outputs": [],
   "source": []
  }
 ],
 "metadata": {
  "kernelspec": {
   "display_name": "competitive_ds",
   "language": "python",
   "name": "competitive_ds"
  },
  "language_info": {
   "codemirror_mode": {
    "name": "ipython",
    "version": 3
   },
   "file_extension": ".py",
   "mimetype": "text/x-python",
   "name": "python",
   "nbconvert_exporter": "python",
   "pygments_lexer": "ipython3",
   "version": "3.8.10"
  }
 },
 "nbformat": 4,
 "nbformat_minor": 2
}
