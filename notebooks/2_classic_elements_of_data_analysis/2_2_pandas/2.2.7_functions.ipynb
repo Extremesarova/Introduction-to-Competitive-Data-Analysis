{
 "cells": [
  {
   "cell_type": "markdown",
   "metadata": {},
   "source": [
    "## Imports"
   ]
  },
  {
   "cell_type": "code",
   "execution_count": 1,
   "metadata": {},
   "outputs": [],
   "source": [
    "import pandas as pd"
   ]
  },
  {
   "cell_type": "markdown",
   "metadata": {},
   "source": [
    "## Reading Data"
   ]
  },
  {
   "cell_type": "code",
   "execution_count": 26,
   "metadata": {},
   "outputs": [
    {
     "name": "stdout",
     "output_type": "stream",
     "text": [
      "<class 'pandas.core.frame.DataFrame'>\n",
      "RangeIndex: 50 entries, 0 to 49\n",
      "Data columns (total 14 columns):\n",
      " #   Column             Non-Null Count  Dtype  \n",
      "---  ------             --------------  -----  \n",
      " 0   user_id            50 non-null     object \n",
      " 1   car_id             43 non-null     object \n",
      " 2   ride_id            50 non-null     object \n",
      " 3   ride_date          50 non-null     object \n",
      " 4   rating             50 non-null     float64\n",
      " 5   ride_duration      50 non-null     int64  \n",
      " 6   ride_cost          50 non-null     int64  \n",
      " 7   speed_avg          50 non-null     int64  \n",
      " 8   speed_max          50 non-null     float64\n",
      " 9   stop_times         50 non-null     int64  \n",
      " 10  distance           50 non-null     float64\n",
      " 11  refueling          50 non-null     int64  \n",
      " 12  user_ride_quality  49 non-null     float64\n",
      " 13  deviation_normal   50 non-null     float64\n",
      "dtypes: float64(5), int64(5), object(4)\n",
      "memory usage: 5.6+ KB\n"
     ]
    }
   ],
   "source": [
    "df = pd.read_csv(\"https://stepik.org/media/attachments/lesson/681964/2_2_13.csv\")\n",
    "\n",
    "df.info()"
   ]
  },
  {
   "cell_type": "markdown",
   "metadata": {},
   "source": [
    "## Parameters"
   ]
  },
  {
   "cell_type": "code",
   "execution_count": 27,
   "metadata": {},
   "outputs": [],
   "source": [
    "cols2drop = [\"ride_cost\", \"stop_times\", \"user_ride_quality\"]"
   ]
  },
  {
   "cell_type": "markdown",
   "metadata": {},
   "source": [
    "## Analysis"
   ]
  },
  {
   "cell_type": "markdown",
   "metadata": {},
   "source": [
    "- Добавьте столбец flag, который равен 'good_line', если rating > 5 and speed_max < 100. 'bad_line', если  rating > 5 and speed_max > 100. 'undefined' в остальных случаях.\n",
    "- Добавьте столбец speed_check, который принимает значения 'avg_more', если distance/ride_duration > speed_avg, иначе 'avg_less'.\n",
    "- Удалите столбцы из списка cols2drop.\n",
    "- Удалите строки, в которых car_id имеет пустые значения (только NA удаляем).\n",
    "- Результат запишите в переменную result."
   ]
  },
  {
   "cell_type": "code",
   "execution_count": 41,
   "metadata": {},
   "outputs": [],
   "source": [
    "def change_df(df, cols2drop):\n",
    "    df = df.copy()\n",
    "\n",
    "    df[\"flag\"] = df.apply(\n",
    "        lambda row: \"good_line\"\n",
    "        if row[\"rating\"] > 5 and row[\"speed_max\"] < 100\n",
    "        else (\n",
    "            \"bad_line\" if row[\"rating\"] > 5 and row[\"speed_max\"] > 100 else \"undefined\"\n",
    "        ),\n",
    "        axis=1,\n",
    "    )\n",
    "    df[\"speed_check\"] = df.apply(\n",
    "        lambda row: \"avg_more\"\n",
    "        if row[\"distance\"] / row[\"ride_duration\"] > row[\"speed_avg\"]\n",
    "        else \"avg_less\",\n",
    "        axis=1,\n",
    "    )\n",
    "    df = df.drop(cols2drop, axis=1)\n",
    "    df = df.dropna(subset=[\"car_id\"], axis=0)\n",
    "\n",
    "    return df\n",
    "\n",
    "\n",
    "result = change_df(df, cols2drop)"
   ]
  },
  {
   "cell_type": "code",
   "execution_count": null,
   "metadata": {},
   "outputs": [],
   "source": []
  }
 ],
 "metadata": {
  "kernelspec": {
   "display_name": "competitive_ds",
   "language": "python",
   "name": "competitive_ds"
  },
  "language_info": {
   "codemirror_mode": {
    "name": "ipython",
    "version": 3
   },
   "file_extension": ".py",
   "mimetype": "text/x-python",
   "name": "python",
   "nbconvert_exporter": "python",
   "pygments_lexer": "ipython3",
   "version": "3.8.10"
  }
 },
 "nbformat": 4,
 "nbformat_minor": 2
}
