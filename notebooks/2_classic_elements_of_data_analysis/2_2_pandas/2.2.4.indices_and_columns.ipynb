{
 "cells": [
  {
   "cell_type": "markdown",
   "metadata": {},
   "source": [
    "## Imports"
   ]
  },
  {
   "cell_type": "code",
   "execution_count": 2,
   "metadata": {},
   "outputs": [],
   "source": [
    "import pandas as pd"
   ]
  },
  {
   "cell_type": "markdown",
   "metadata": {},
   "source": [
    "## Reading Data"
   ]
  },
  {
   "cell_type": "code",
   "execution_count": 3,
   "metadata": {},
   "outputs": [
    {
     "name": "stdout",
     "output_type": "stream",
     "text": [
      "<class 'pandas.core.frame.DataFrame'>\n",
      "RangeIndex: 50 entries, 0 to 49\n",
      "Data columns (total 6 columns):\n",
      " #   Column          Non-Null Count  Dtype  \n",
      "---  ------          --------------  -----  \n",
      " 0   car_id          50 non-null     object \n",
      " 1   worker_id       50 non-null     object \n",
      " 2   fix_date        50 non-null     object \n",
      " 3   work_type       50 non-null     object \n",
      " 4   destroy_degree  50 non-null     float64\n",
      " 5   work_duration   50 non-null     int64  \n",
      "dtypes: float64(1), int64(1), object(4)\n",
      "memory usage: 2.5+ KB\n"
     ]
    }
   ],
   "source": [
    "df = pd.read_csv(\"https://stepik.org/media/attachments/lesson/681964/2_2_10.csv\")\n",
    "\n",
    "df.info()"
   ]
  },
  {
   "cell_type": "markdown",
   "metadata": {},
   "source": [
    "## Parameters"
   ]
  },
  {
   "cell_type": "code",
   "execution_count": 4,
   "metadata": {},
   "outputs": [],
   "source": [
    "new_index = 50\n",
    "new_data = [\"new_car_id\", \"new_worker_id\", \"2019-11-11 4:44\", \"refuel_check\", 3.5, 10]\n",
    "del_index_list = [41, 18, 33, 7, 46]\n",
    "index = 22"
   ]
  },
  {
   "cell_type": "markdown",
   "metadata": {},
   "source": [
    "## Analysis"
   ]
  },
  {
   "cell_type": "markdown",
   "metadata": {},
   "source": [
    "- Добавьте новую строку (с индексом new_index:(int / str) и значениями new_data:list).\n",
    "- Удалите строки с индексами из списка del_index_list: list.\n",
    "- Увеличьте значение destroy_degree на 1 в строке с индексом равным index. Переменная index содержит индекс строки ИЛИ число (индекс).\n",
    "- Удалите столбец fix_date, т.к. не стоит сейчас думать о времени.\n",
    "- Создайте новый столбец efficient, который равен destroy_degree деленный на work_duration.\n",
    "- Возведите столбец work_duration в квадрат.\n",
    "- Переименуйте столбец work_duration в work_duration_square.\n",
    "- Удалите дубликаты по столбцу car_id."
   ]
  },
  {
   "cell_type": "code",
   "execution_count": 5,
   "metadata": {},
   "outputs": [],
   "source": [
    "df.loc[new_index] = new_data\n",
    "df = df.drop(index=del_index_list)\n",
    "df.loc[index, \"destroy_degree\"] += 1\n",
    "df = df.drop(\"fix_date\", axis=1)\n",
    "df[\"efficient\"] = df[\"destroy_degree\"] / df[\"work_duration\"]\n",
    "df[\"work_duration\"] = df[\"work_duration\"] ** 2\n",
    "df = df.rename({\"work_duration\": \"work_duration_square\"}, axis=1)\n",
    "df = df.drop_duplicates(\"car_id\")"
   ]
  },
  {
   "cell_type": "code",
   "execution_count": null,
   "metadata": {},
   "outputs": [],
   "source": []
  }
 ],
 "metadata": {
  "kernelspec": {
   "display_name": "competitive_ds",
   "language": "python",
   "name": "competitive_ds"
  },
  "language_info": {
   "codemirror_mode": {
    "name": "ipython",
    "version": 3
   },
   "file_extension": ".py",
   "mimetype": "text/x-python",
   "name": "python",
   "nbconvert_exporter": "python",
   "pygments_lexer": "ipython3",
   "version": "3.8.10"
  }
 },
 "nbformat": 4,
 "nbformat_minor": 2
}
