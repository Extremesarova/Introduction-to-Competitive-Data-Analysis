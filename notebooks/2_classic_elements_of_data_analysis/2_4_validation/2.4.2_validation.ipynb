{
 "cells": [
  {
   "cell_type": "markdown",
   "metadata": {},
   "source": [
    "## Imports"
   ]
  },
  {
   "cell_type": "code",
   "execution_count": 101,
   "metadata": {},
   "outputs": [
    {
     "name": "stderr",
     "output_type": "stream",
     "text": [
      "WARNING: You are using pip version 21.1.1; however, version 23.3.2 is available.\n",
      "You should consider upgrading via the 'c:\\users\\ryblo\\documents\\projects\\introduction-to-competitive-data-analysis\\venv\\scripts\\python.exe -m pip install --upgrade pip' command.\n"
     ]
    }
   ],
   "source": [
    "!pip install iterative-stratification -q"
   ]
  },
  {
   "cell_type": "code",
   "execution_count": 102,
   "metadata": {},
   "outputs": [],
   "source": [
    "import pandas as pd\n",
    "import seaborn as sns\n",
    "from matplotlib import pyplot as plt \n",
    "\n",
    "from iterstrat.ml_stratifiers import MultilabelStratifiedKFold\n",
    "\n",
    "%matplotlib inline\n",
    "%config InlineBackend.figure_format='retina'"
   ]
  },
  {
   "cell_type": "markdown",
   "metadata": {},
   "source": [
    "## Reading Data"
   ]
  },
  {
   "cell_type": "code",
   "execution_count": 109,
   "metadata": {},
   "outputs": [
    {
     "name": "stdout",
     "output_type": "stream",
     "text": [
      "<class 'pandas.core.frame.DataFrame'>\n",
      "RangeIndex: 10000 entries, 0 to 9999\n",
      "Data columns (total 13 columns):\n",
      " #   Column                Non-Null Count  Dtype\n",
      "---  ------                --------------  -----\n",
      " 0   ID                    10000 non-null  int64\n",
      " 1   Computer Science      10000 non-null  int64\n",
      " 2   Physics               10000 non-null  int64\n",
      " 3   Mathematics           10000 non-null  int64\n",
      " 4   Statistics            10000 non-null  int64\n",
      " 5   Quantitative Biology  10000 non-null  int64\n",
      " 6   Quantitative Finance  10000 non-null  int64\n",
      " 7   Chemistry             10000 non-null  int64\n",
      " 8   Astrology             10000 non-null  int64\n",
      " 9   Spaceology            10000 non-null  int64\n",
      " 10  Life Science          10000 non-null  int64\n",
      " 11  Earth Science         10000 non-null  int64\n",
      " 12  Data Science          10000 non-null  int64\n",
      "dtypes: int64(13)\n",
      "memory usage: 1015.8 KB\n"
     ]
    }
   ],
   "source": [
    "df = pd.read_csv(\"../../../data/multi_label.csv\")\n",
    "\n",
    "df.info()"
   ]
  },
  {
   "cell_type": "markdown",
   "metadata": {},
   "source": [
    "## Processing"
   ]
  },
  {
   "cell_type": "code",
   "execution_count": 110,
   "metadata": {},
   "outputs": [],
   "source": [
    "n = 5\n",
    "kf = MultilabelStratifiedKFold(n_splits=n, random_state=42, shuffle=True)"
   ]
  },
  {
   "cell_type": "code",
   "execution_count": 111,
   "metadata": {},
   "outputs": [],
   "source": [
    "for i, (train_index, test_index) in enumerate(kf.split(X=df[\"ID\"], y=df.iloc[:, 1:])):\n",
    "    df.loc[test_index, \"kfold\"] = int(i)\n",
    "\n",
    "df[\"kfold\"] = df[\"kfold\"].astype(int)"
   ]
  },
  {
   "cell_type": "code",
   "execution_count": 113,
   "metadata": {},
   "outputs": [
    {
     "name": "stdout",
     "output_type": "stream",
     "text": [
      "0.34002113116881\n"
     ]
    }
   ],
   "source": [
    "targets = [\n",
    "    \"Computer Science\",\n",
    "    \"Physics\",\n",
    "    \"Mathematics\",\n",
    "    \"Statistics\",\n",
    "    \"Quantitative Biology\",\n",
    "    \"Quantitative Finance\",\n",
    "    \"Chemistry\",\n",
    "    \"Astrology\",\n",
    "    \"Spaceology\",\n",
    "    \"Life Science\",\n",
    "    \"Earth Science\",\n",
    "    \"Data Science\",\n",
    "]\n",
    "\n",
    "tmp = df.groupby([\"kfold\"], as_index=False).sum()\n",
    "\n",
    "tmp_melt = tmp.melt(\n",
    "    id_vars=\"kfold\", value_vars=targets, value_name=\"count\", var_name=\"class\"\n",
    ")\n",
    "print(tmp_melt.groupby([\"class\"], as_index=False).std()[\"count\"].mean())"
   ]
  },
  {
   "cell_type": "code",
   "execution_count": 114,
   "metadata": {},
   "outputs": [],
   "source": [
    "df.to_csv(\"sub.csv\", index=False)"
   ]
  },
  {
   "cell_type": "code",
   "execution_count": null,
   "metadata": {},
   "outputs": [],
   "source": []
  }
 ],
 "metadata": {
  "kernelspec": {
   "display_name": "competitive_ds",
   "language": "python",
   "name": "competitive_ds"
  },
  "language_info": {
   "codemirror_mode": {
    "name": "ipython",
    "version": 3
   },
   "file_extension": ".py",
   "mimetype": "text/x-python",
   "name": "python",
   "nbconvert_exporter": "python",
   "pygments_lexer": "ipython3",
   "version": "3.8.10"
  }
 },
 "nbformat": 4,
 "nbformat_minor": 2
}
