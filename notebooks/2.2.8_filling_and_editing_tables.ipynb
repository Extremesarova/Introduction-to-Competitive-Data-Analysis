{
 "cells": [
  {
   "cell_type": "markdown",
   "metadata": {},
   "source": [
    "## Imports"
   ]
  },
  {
   "cell_type": "code",
   "execution_count": 1,
   "metadata": {},
   "outputs": [],
   "source": [
    "import pandas as pd"
   ]
  },
  {
   "cell_type": "markdown",
   "metadata": {},
   "source": [
    "## Reading Data"
   ]
  },
  {
   "cell_type": "code",
   "execution_count": 2,
   "metadata": {},
   "outputs": [
    {
     "name": "stdout",
     "output_type": "stream",
     "text": [
      "<class 'pandas.core.frame.DataFrame'>\n",
      "RangeIndex: 50 entries, 0 to 49\n",
      "Data columns (total 8 columns):\n",
      " #   Column              Non-Null Count  Dtype  \n",
      "---  ------              --------------  -----  \n",
      " 0   Unnamed: 0          50 non-null     int64  \n",
      " 1   age                 36 non-null     float64\n",
      " 2   user_rating         40 non-null     float64\n",
      " 3   user_rides          48 non-null     float64\n",
      " 4   user_time_accident  28 non-null     float64\n",
      " 5   user_id             50 non-null     object \n",
      " 6   sex                 50 non-null     int64  \n",
      " 7   first_ride_date     43 non-null     object \n",
      "dtypes: float64(4), int64(2), object(2)\n",
      "memory usage: 3.2+ KB\n"
     ]
    }
   ],
   "source": [
    "df = pd.read_csv('https://stepik.org/media/attachments/lesson/681964/2_2_14.csv')\n",
    "\n",
    "df.info()"
   ]
  },
  {
   "cell_type": "markdown",
   "metadata": {},
   "source": [
    "## Analysis"
   ]
  },
  {
   "cell_type": "markdown",
   "metadata": {},
   "source": [
    "- Посчитайте количество пропусков в каждой строке и запишите это в новый столбец nans_num.\n",
    "- Удалите строки, где количество пропусков больше 2.\n",
    "- Удалите строки, где age имеет пропущенные значения.\n",
    "- Заполните пропущенные значения в столбце user_time_accident медианным значением.\n",
    "- Оставьте только столбцы age, user_rides, user_time_accident.\n",
    "- Решение запишите в переменную result."
   ]
  },
  {
   "cell_type": "code",
   "execution_count": 12,
   "metadata": {},
   "outputs": [],
   "source": [
    "def change_df(df):\n",
    "    df = df.copy()\n",
    "\n",
    "    df[\"nans_num\"] = df.isna().sum(axis=1)\n",
    "    df = df.query(\"nans_num <= 2 and ~age.isna()\")\n",
    "    df.loc[:, \"user_time_accident\"] = df[\"user_time_accident\"].fillna(\n",
    "        value=df[\"user_time_accident\"].median()\n",
    "    )\n",
    "\n",
    "    return df[[\"age\", \"user_rides\", \"user_time_accident\"]]\n",
    "\n",
    "\n",
    "result = change_df(df)"
   ]
  },
  {
   "cell_type": "code",
   "execution_count": null,
   "metadata": {},
   "outputs": [],
   "source": []
  }
 ],
 "metadata": {
  "kernelspec": {
   "display_name": "competitive_ds",
   "language": "python",
   "name": "competitive_ds"
  },
  "language_info": {
   "codemirror_mode": {
    "name": "ipython",
    "version": 3
   },
   "file_extension": ".py",
   "mimetype": "text/x-python",
   "name": "python",
   "nbconvert_exporter": "python",
   "pygments_lexer": "ipython3",
   "version": "3.8.10"
  }
 },
 "nbformat": 4,
 "nbformat_minor": 2
}
