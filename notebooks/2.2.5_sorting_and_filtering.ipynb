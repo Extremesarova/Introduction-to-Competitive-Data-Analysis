{
 "cells": [
  {
   "cell_type": "markdown",
   "metadata": {},
   "source": [
    "## Imports"
   ]
  },
  {
   "cell_type": "code",
   "execution_count": 1,
   "metadata": {},
   "outputs": [],
   "source": [
    "import pandas as pd"
   ]
  },
  {
   "cell_type": "markdown",
   "metadata": {},
   "source": [
    "## Reading Data"
   ]
  },
  {
   "cell_type": "code",
   "execution_count": 25,
   "metadata": {},
   "outputs": [
    {
     "name": "stdout",
     "output_type": "stream",
     "text": [
      "<class 'pandas.core.frame.DataFrame'>\n",
      "RangeIndex: 300 entries, 0 to 299\n",
      "Data columns (total 10 columns):\n",
      " #   Column         Non-Null Count  Dtype  \n",
      "---  ------         --------------  -----  \n",
      " 0   car_id         300 non-null    object \n",
      " 1   model          300 non-null    object \n",
      " 2   car_type       300 non-null    object \n",
      " 3   fuel_type      300 non-null    object \n",
      " 4   car_rating     300 non-null    float64\n",
      " 5   year_to_start  300 non-null    int64  \n",
      " 6   riders         300 non-null    int64  \n",
      " 7   year_to_work   300 non-null    int64  \n",
      " 8   target_reg     300 non-null    float64\n",
      " 9   target_class   300 non-null    object \n",
      "dtypes: float64(2), int64(3), object(5)\n",
      "memory usage: 23.6+ KB\n"
     ]
    }
   ],
   "source": [
    "df = pd.read_csv(\"https://stepik.org/media/attachments/lesson/681964/2.2.11.csv\")\n",
    "\n",
    "\n",
    "\n",
    "df.info()"
   ]
  },
  {
   "cell_type": "markdown",
   "metadata": {},
   "source": [
    "## Parameters"
   ]
  },
  {
   "cell_type": "code",
   "execution_count": 26,
   "metadata": {},
   "outputs": [],
   "source": [
    "sort_by_list = [\"car_rating\", \"riders\"]\n",
    "cols2drop = [\"random_name_1\", \"target_reg\", \"target_class\", \"random_name_2\"]\n",
    "columns_order_list = [\n",
    "    \"model\",\n",
    "    \"car_type\",\n",
    "    \"car_id\",\n",
    "    \"car_rating\",\n",
    "    \"year_to_start\",\n",
    "    \"year_to_work\",\n",
    "    \"riders\",\n",
    "    \"fuel_type\",\n",
    "]\n",
    "critical_car_rating = 2"
   ]
  },
  {
   "cell_type": "markdown",
   "metadata": {},
   "source": [
    "## Analysis"
   ]
  },
  {
   "cell_type": "markdown",
   "metadata": {},
   "source": [
    "- Отсортируйте строки сначала по убыванию 1-го столбца из списка sort_by_list, затем по возрастанию 2-го столбца из списка.  \n",
    "- Удалите столбцы из списка cols2drop с учетом того, что некоторых столбцов может не быть в df.\n",
    "- Сделайте порядок столбцов в df в соответствии с переменной columns_order_list: List[str].\n",
    "- Удалите строки, в которых car_rating < critical_car_rating.\n",
    "- Удалите строки, где число поездок riders больше 10_000, или тип машины car_type относится либо к standart, либо к economy."
   ]
  },
  {
   "cell_type": "code",
   "execution_count": 27,
   "metadata": {},
   "outputs": [],
   "source": [
    "df = df.sort_values(sort_by_list[0], ascending=False).sort_values(\n",
    "    sort_by_list[1], ascending=True\n",
    ")\n",
    "df = df.drop(cols2drop, errors=\"ignore\", axis=1)\n",
    "df = df[columns_order_list]\n",
    "df = df.query(f\"~(car_rating < {critical_car_rating})\")\n",
    "df = df.query(f\"~(riders > 10000 or car_type.isin(['standart', 'economy']))\")"
   ]
  },
  {
   "cell_type": "code",
   "execution_count": 28,
   "metadata": {},
   "outputs": [
    {
     "data": {
      "text/html": [
       "<div>\n",
       "<style scoped>\n",
       "    .dataframe tbody tr th:only-of-type {\n",
       "        vertical-align: middle;\n",
       "    }\n",
       "\n",
       "    .dataframe tbody tr th {\n",
       "        vertical-align: top;\n",
       "    }\n",
       "\n",
       "    .dataframe thead th {\n",
       "        text-align: right;\n",
       "    }\n",
       "</style>\n",
       "<table border=\"1\" class=\"dataframe\">\n",
       "  <thead>\n",
       "    <tr style=\"text-align: right;\">\n",
       "      <th></th>\n",
       "      <th>model</th>\n",
       "      <th>car_type</th>\n",
       "      <th>car_id</th>\n",
       "      <th>car_rating</th>\n",
       "      <th>year_to_start</th>\n",
       "      <th>year_to_work</th>\n",
       "      <th>riders</th>\n",
       "      <th>fuel_type</th>\n",
       "    </tr>\n",
       "  </thead>\n",
       "  <tbody>\n",
       "    <tr>\n",
       "      <th>4</th>\n",
       "      <td>Mini Cooper</td>\n",
       "      <td>business</td>\n",
       "      <td>i-4390733F</td>\n",
       "      <td>4.96</td>\n",
       "      <td>2012</td>\n",
       "      <td>2018</td>\n",
       "      <td>1007</td>\n",
       "      <td>petrol</td>\n",
       "    </tr>\n",
       "    <tr>\n",
       "      <th>295</th>\n",
       "      <td>Mini Cooper</td>\n",
       "      <td>business</td>\n",
       "      <td>b34607341j</td>\n",
       "      <td>4.04</td>\n",
       "      <td>2011</td>\n",
       "      <td>2018</td>\n",
       "      <td>2740</td>\n",
       "      <td>petrol</td>\n",
       "    </tr>\n",
       "  </tbody>\n",
       "</table>\n",
       "</div>"
      ],
      "text/plain": [
       "           model  car_type      car_id  car_rating  year_to_start  \\\n",
       "4    Mini Cooper  business  i-4390733F        4.96           2012   \n",
       "295  Mini Cooper  business  b34607341j        4.04           2011   \n",
       "\n",
       "     year_to_work  riders fuel_type  \n",
       "4            2018    1007    petrol  \n",
       "295          2018    2740    petrol  "
      ]
     },
     "execution_count": 28,
     "metadata": {},
     "output_type": "execute_result"
    }
   ],
   "source": [
    "df"
   ]
  },
  {
   "cell_type": "code",
   "execution_count": null,
   "metadata": {},
   "outputs": [],
   "source": []
  },
  {
   "cell_type": "code",
   "execution_count": null,
   "metadata": {},
   "outputs": [],
   "source": []
  }
 ],
 "metadata": {
  "kernelspec": {
   "display_name": "competitive_ds",
   "language": "python",
   "name": "competitive_ds"
  },
  "language_info": {
   "codemirror_mode": {
    "name": "ipython",
    "version": 3
   },
   "file_extension": ".py",
   "mimetype": "text/x-python",
   "name": "python",
   "nbconvert_exporter": "python",
   "pygments_lexer": "ipython3",
   "version": "3.8.10"
  }
 },
 "nbformat": 4,
 "nbformat_minor": 2
}
